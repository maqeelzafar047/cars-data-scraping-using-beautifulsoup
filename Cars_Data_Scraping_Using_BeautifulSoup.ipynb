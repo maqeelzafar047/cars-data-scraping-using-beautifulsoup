{
  "cells": [
    {
      "cell_type": "markdown",
      "source": [
        "# **Data Science Project** (Web Scraping & Analysis from Cars.com)\n",
        "\n",
        "- This project demonstrates data scraping, cleaning, and analysis of used car listings from Cars.com using Python. It is designed in Jupyter Lab and focuses on extracting real-world automotive data and generating insights using data science tools."
      ],
      "metadata": {
        "id": "0kX-vDC32g2N"
      },
      "id": "0kX-vDC32g2N"
    },
    {
      "cell_type": "code",
      "execution_count": null,
      "id": "36589097-63d0-4399-97ee-1c1e9074b3f7",
      "metadata": {
        "id": "36589097-63d0-4399-97ee-1c1e9074b3f7"
      },
      "outputs": [],
      "source": [
        "from bs4 import BeautifulSoup\n",
        "import requests\n",
        "import pandas as pd"
      ]
    },
    {
      "cell_type": "code",
      "execution_count": null,
      "id": "5225d96a-b581-456e-9de4-36dadc8524be",
      "metadata": {
        "id": "5225d96a-b581-456e-9de4-36dadc8524be"
      },
      "outputs": [],
      "source": [
        "# Website URL\n",
        "website = 'https://www.cars.com/shopping/results/?stock_type=cpo&makes%5B%5D=mercedes_benz&models%5B%5D=&list_price_max=&maximum_distance=20&zip='"
      ]
    },
    {
      "cell_type": "code",
      "execution_count": null,
      "id": "3fea924b-b159-45ee-8429-0e3710f847f4",
      "metadata": {
        "id": "3fea924b-b159-45ee-8429-0e3710f847f4"
      },
      "outputs": [],
      "source": [
        "from requests.adapters import HTTPAdapter\n",
        "from urllib3.util.retry import Retry\n",
        "\n",
        "# Retry aur session setup\n",
        "session = requests.Session()\n",
        "retry = Retry(connect=3, backoff_factor=1)\n",
        "adapter = HTTPAdapter(max_retries=retry)\n",
        "session.mount('http://', adapter)\n",
        "session.mount('https://', adapter)\n",
        "\n",
        "# Headers to look like a browser\n",
        "headers = {\n",
        "    \"User-Agent\": \"Mozilla/5.0 (Windows NT 10.0; Win64; x64)\"\n",
        "}"
      ]
    },
    {
      "cell_type": "code",
      "execution_count": null,
      "id": "dbc5b280-8b1a-45ec-9036-431df6e64eec",
      "metadata": {
        "id": "dbc5b280-8b1a-45ec-9036-431df6e64eec",
        "outputId": "79cbdac4-42cb-4569-b3dd-64dce1b9b189"
      },
      "outputs": [
        {
          "name": "stdout",
          "output_type": "stream",
          "text": [
            "200\n"
          ]
        }
      ],
      "source": [
        "# Website ko request bhejna\n",
        "try:\n",
        "    response = session.get(website, headers=headers, timeout=30)  # Timeout badha diya\n",
        "    print(response.status_code)  # Optional: status check\n",
        "except requests.exceptions.ReadTimeout:\n",
        "    print(\"Request timeout ho gaya.\")\n",
        "\n",
        "\n",
        "#response.status_code"
      ]
    },
    {
      "cell_type": "code",
      "execution_count": null,
      "id": "ee6cdbd1-2ce8-4eef-9861-2be9dc5cef67",
      "metadata": {
        "id": "ee6cdbd1-2ce8-4eef-9861-2be9dc5cef67"
      },
      "outputs": [],
      "source": [
        "soup = BeautifulSoup(response.content, 'html.parser')"
      ]
    },
    {
      "cell_type": "code",
      "execution_count": null,
      "id": "ce9d1598-61e4-4404-b880-6f5374893126",
      "metadata": {
        "id": "ce9d1598-61e4-4404-b880-6f5374893126"
      },
      "outputs": [],
      "source": [
        "results = soup.find_all('div', {'class' : 'vehicle-card'})"
      ]
    },
    {
      "cell_type": "code",
      "execution_count": null,
      "id": "dabfa1f9-5fa0-4a36-b76e-918623b33d63",
      "metadata": {
        "id": "dabfa1f9-5fa0-4a36-b76e-918623b33d63",
        "outputId": "b487af7b-cc9d-41ef-c0be-3bb66f18cbbb"
      },
      "outputs": [
        {
          "data": {
            "text/plain": [
              "22"
            ]
          },
          "execution_count": 97,
          "metadata": {},
          "output_type": "execute_result"
        }
      ],
      "source": [
        "len(results)"
      ]
    },
    {
      "cell_type": "code",
      "execution_count": null,
      "id": "77c4535d-f212-454d-b62b-d51359be3a28",
      "metadata": {
        "id": "77c4535d-f212-454d-b62b-d51359be3a28"
      },
      "outputs": [],
      "source": [
        "# results[0]"
      ]
    },
    {
      "cell_type": "code",
      "execution_count": null,
      "id": "138fec0a-1ccc-465f-aa8c-1583d2c9441a",
      "metadata": {
        "id": "138fec0a-1ccc-465f-aa8c-1583d2c9441a"
      },
      "outputs": [],
      "source": [
        "# Name\n",
        "# Mileage\n",
        "# Dealer Name\n",
        "# Rating\n",
        "# Rating Count\n",
        "# Price\n",
        "# Location"
      ]
    },
    {
      "cell_type": "code",
      "execution_count": null,
      "id": "46608faf-aac4-44fd-8aa0-252dd655a935",
      "metadata": {
        "id": "46608faf-aac4-44fd-8aa0-252dd655a935",
        "outputId": "5722c5cb-34e7-4551-f506-c385ac660168"
      },
      "outputs": [
        {
          "data": {
            "text/plain": [
              "'\\n    2022 Mercedes-Benz GLS 450 4MATIC\\n  '"
            ]
          },
          "execution_count": 100,
          "metadata": {},
          "output_type": "execute_result"
        }
      ],
      "source": [
        "results[0].find('h2').get_text()"
      ]
    },
    {
      "cell_type": "code",
      "execution_count": null,
      "id": "965ec9cb-8166-4cb4-8180-cdb486bb9dbd",
      "metadata": {
        "id": "965ec9cb-8166-4cb4-8180-cdb486bb9dbd",
        "outputId": "353bbd28-c2ee-4142-da0e-d0b27691ceaa"
      },
      "outputs": [
        {
          "data": {
            "text/plain": [
              "'4.8'"
            ]
          },
          "execution_count": 101,
          "metadata": {},
          "output_type": "execute_result"
        }
      ],
      "source": [
        "results[0].find('spark-rating')['rating'].strip() if results[0].find('spark-rating') and results[0].find('spark-rating').has_attr('rating') else 'N/A'"
      ]
    },
    {
      "cell_type": "code",
      "execution_count": null,
      "id": "85048b6c-1a66-4dc1-a398-77f1790aeb7a",
      "metadata": {
        "id": "85048b6c-1a66-4dc1-a398-77f1790aeb7a",
        "outputId": "059dc004-3e57-4d3d-fd53-9b037d57fe3e"
      },
      "outputs": [
        {
          "data": {
            "text/plain": [
              "'(852 reviews)'"
            ]
          },
          "execution_count": 102,
          "metadata": {},
          "output_type": "execute_result"
        }
      ],
      "source": [
        "results[0].find('span', {'class':'sds-rating__link'}).get_text()"
      ]
    },
    {
      "cell_type": "code",
      "execution_count": null,
      "id": "93c5e62a-207c-4747-9cd5-c4048ce6e534",
      "metadata": {
        "id": "93c5e62a-207c-4747-9cd5-c4048ce6e534",
        "outputId": "4972b9dc-63a9-4dc1-fc38-709f283efc16"
      },
      "outputs": [
        {
          "data": {
            "text/plain": [
              "'\\n  $51,490\\n'"
            ]
          },
          "execution_count": 103,
          "metadata": {},
          "output_type": "execute_result"
        }
      ],
      "source": [
        "results[0].find('span', {'class':'primary-price'}).get_text()"
      ]
    },
    {
      "cell_type": "code",
      "execution_count": null,
      "id": "cade5695-b599-4c75-a83b-71daa628aa93",
      "metadata": {
        "id": "cade5695-b599-4c75-a83b-71daa628aa93",
        "outputId": "44ec9c85-9213-40d9-a919-bfdaf08d57a3"
      },
      "outputs": [
        {
          "data": {
            "text/plain": [
              "'Mercedes-Benz of Kansas City South'"
            ]
          },
          "execution_count": 104,
          "metadata": {},
          "output_type": "execute_result"
        }
      ],
      "source": [
        "results[0].find('div', {'class':'dealer-name'}).get_text().strip()"
      ]
    },
    {
      "cell_type": "code",
      "execution_count": null,
      "id": "c9cb9e06-b253-4b48-9c63-3b6def779ef7",
      "metadata": {
        "id": "c9cb9e06-b253-4b48-9c63-3b6def779ef7",
        "outputId": "18357619-2a8d-42d3-e68d-00d59a6c0639"
      },
      "outputs": [
        {
          "data": {
            "text/plain": [
              "'70,498 mi.'"
            ]
          },
          "execution_count": 105,
          "metadata": {},
          "output_type": "execute_result"
        }
      ],
      "source": [
        "results[0].find('div', {'class':'mileage'}).get_text()"
      ]
    },
    {
      "cell_type": "code",
      "execution_count": null,
      "id": "d3a09fe5-a884-43eb-b1de-94df289a875e",
      "metadata": {
        "id": "d3a09fe5-a884-43eb-b1de-94df289a875e",
        "outputId": "f8314653-4229-49d9-8b75-be99884154d4"
      },
      "outputs": [
        {
          "data": {
            "text/plain": [
              "'Kansas City, MO'"
            ]
          },
          "execution_count": 106,
          "metadata": {},
          "output_type": "execute_result"
        }
      ],
      "source": [
        "results[0].find('div', {'data-qa': 'miles-from-user'}).get_text(strip=True)"
      ]
    },
    {
      "cell_type": "code",
      "execution_count": null,
      "id": "f6974054-5a7f-48e1-a324-8418add8d7ae",
      "metadata": {
        "id": "f6974054-5a7f-48e1-a324-8418add8d7ae"
      },
      "outputs": [],
      "source": [
        "name = []\n",
        "rating = []\n",
        "review_count = []\n",
        "price = []\n",
        "dealer_name = []\n",
        "mileage = []\n",
        "location = []\n",
        "\n",
        "for i in range (1,500):   # Set loop according to your needs like (10 instead of 500)\n",
        "\n",
        "    # Use website URL and set Variable Loop variable\n",
        "    website = 'https://www.cars.com/shopping/results/?page='+ str(i) +'&page_size=20&dealer_id=&list_price_max=&list_price_min=&makes[]=mercedes_benz&maximum_distance=20&mileage_max=&sort=best_match_desc&stock_type=cpo&year_max=&year_min=&zip='\n",
        "\n",
        "    # request to website\n",
        "    from requests.adapters import HTTPAdapter\n",
        "    from urllib3.util.retry import Retry\n",
        "\n",
        "    # Retry aur session setup\n",
        "    session = requests.Session()\n",
        "    retry = Retry(connect=3, backoff_factor=1)\n",
        "    adapter = HTTPAdapter(max_retries=retry)\n",
        "    session.mount('http://', adapter)\n",
        "    session.mount('https://', adapter)\n",
        "\n",
        "    # Headers to look like a browser\n",
        "    headers = {\n",
        "        \"User-Agent\": \"Mozilla/5.0 (Windows NT 10.0; Win64; x64)\"\n",
        "    }\n",
        "\n",
        "    # soup object\n",
        "    soup = BeautifulSoup(response.content, 'html.parser')\n",
        "\n",
        "    # results\n",
        "    results = soup.find_all('div', {'class' : 'vehicle-card'})\n",
        "\n",
        "    # loop through results\n",
        "    for result in results:\n",
        "\n",
        "        # name\n",
        "        try:\n",
        "            name.append(result.find('h2').get_text())\n",
        "        except:\n",
        "            name.append('n/a')\n",
        "\n",
        "        # rating\n",
        "        # try:\n",
        "            # rating.append(result.find('span', {'class':'sds-rating__count'}).get_text())\n",
        "        # except:\n",
        "            # rating.append('n/a')\n",
        "        try:\n",
        "            rating.append(result.find('spark-rating')['rating'].strip())\n",
        "        except:\n",
        "            rating.append('n/a')\n",
        "\n",
        "        # review_count\n",
        "        try:\n",
        "            review_count.append(result.find('span', {'class':'sds-rating__link'}).get_text())\n",
        "        except:\n",
        "            review_count.append('n/a')\n",
        "\n",
        "        #price\n",
        "        try:\n",
        "            price.append(result.find('span', {'class':'primary-price'}).get_text())\n",
        "        except:\n",
        "            price.append('n/a')\n",
        "\n",
        "        # dealer_name\n",
        "        try:\n",
        "            dealer_name.append(result.find('div', {'class':'dealer-name'}).get_text().strip())\n",
        "        except:\n",
        "            dealer_name.append('n/a')\n",
        "\n",
        "        # mileage\n",
        "        try:\n",
        "            mileage.append(result.find('div', {'class':'mileage'}).get_text())\n",
        "        except:\n",
        "            mileage.append('n/a')\n",
        "\n",
        "        #location\n",
        "        try:\n",
        "            location.append(result.find('div', {'data-qa': 'miles-from-user'}).get_text(strip=True))\n",
        "        except:\n",
        "            location.append('n/a')"
      ]
    },
    {
      "cell_type": "code",
      "execution_count": null,
      "id": "2f4c8ba3-83f3-425f-954d-23bab56910f4",
      "metadata": {
        "id": "2f4c8ba3-83f3-425f-954d-23bab56910f4"
      },
      "outputs": [],
      "source": [
        "# dictionary\n",
        "car_dealer = pd.DataFrame({\n",
        "    'Name': name,\n",
        "    'Rating': rating,\n",
        "    'Review Count': review_count,\n",
        "    '$ Price': price,\n",
        "    'Dealer Name': dealer_name,\n",
        "    'Mileage': mileage,\n",
        "    'Location': location\n",
        "})"
      ]
    },
    {
      "cell_type": "code",
      "execution_count": null,
      "id": "e92ddefc-51e8-47b2-81b5-b4a3955b76d3",
      "metadata": {
        "id": "e92ddefc-51e8-47b2-81b5-b4a3955b76d3",
        "outputId": "c84d4810-bf1c-400d-e201-82d9f15a06dd"
      },
      "outputs": [
        {
          "data": {
            "text/html": [
              "<div>\n",
              "<style scoped>\n",
              "    .dataframe tbody tr th:only-of-type {\n",
              "        vertical-align: middle;\n",
              "    }\n",
              "\n",
              "    .dataframe tbody tr th {\n",
              "        vertical-align: top;\n",
              "    }\n",
              "\n",
              "    .dataframe thead th {\n",
              "        text-align: right;\n",
              "    }\n",
              "</style>\n",
              "<table border=\"1\" class=\"dataframe\">\n",
              "  <thead>\n",
              "    <tr style=\"text-align: right;\">\n",
              "      <th></th>\n",
              "      <th>Name</th>\n",
              "      <th>Rating</th>\n",
              "      <th>Review Count</th>\n",
              "      <th>$ Price</th>\n",
              "      <th>Dealer Name</th>\n",
              "      <th>Mileage</th>\n",
              "      <th>Location</th>\n",
              "    </tr>\n",
              "  </thead>\n",
              "  <tbody>\n",
              "    <tr>\n",
              "      <th>0</th>\n",
              "      <td>\\n    2022 Mercedes-Benz GLS 450 4MATIC\\n</td>\n",
              "      <td>4.8</td>\n",
              "      <td>(852 reviews)</td>\n",
              "      <td>\\n  $51,490\\n</td>\n",
              "      <td>Mercedes-Benz of Kansas City South</td>\n",
              "      <td>70,498 mi.</td>\n",
              "      <td>Kansas City, MO</td>\n",
              "    </tr>\n",
              "    <tr>\n",
              "      <th>1</th>\n",
              "      <td>\\n    2022 Mercedes-Benz E-Class 4MATIC\\n</td>\n",
              "      <td>4.5</td>\n",
              "      <td>(454 reviews)</td>\n",
              "      <td>\\n  $47,479\\n</td>\n",
              "      <td>Sullivan-Parkhill</td>\n",
              "      <td>38,594 mi.</td>\n",
              "      <td>Champaign, IL</td>\n",
              "    </tr>\n",
              "    <tr>\n",
              "      <th>2</th>\n",
              "      <td>\\n    2023 Mercedes-Benz E-Class 4MATIC\\n</td>\n",
              "      <td>4.8</td>\n",
              "      <td>(5,063 reviews)</td>\n",
              "      <td>\\n  $57,000\\n</td>\n",
              "      <td>Jackie Cooper Mercedes Benz</td>\n",
              "      <td>11,254 mi.</td>\n",
              "      <td>Tulsa, OK</td>\n",
              "    </tr>\n",
              "    <tr>\n",
              "      <th>3</th>\n",
              "      <td>\\n    2023 Mercedes-Benz E-Class E 350\\n</td>\n",
              "      <td>4.5</td>\n",
              "      <td>(1,950 reviews)</td>\n",
              "      <td>\\n  $43,655\\n</td>\n",
              "      <td>Mercedes-Benz of Houston North</td>\n",
              "      <td>22,909 mi.</td>\n",
              "      <td>Houston, TX</td>\n",
              "    </tr>\n",
              "    <tr>\n",
              "      <th>4</th>\n",
              "      <td>\\n    2022 Mercedes-Benz S-Class 4MATIC\\n</td>\n",
              "      <td>4.4</td>\n",
              "      <td>(1,433 reviews)</td>\n",
              "      <td>\\n  $71,998\\n</td>\n",
              "      <td>Mercedes-Benz of Pompano</td>\n",
              "      <td>31,921 mi.</td>\n",
              "      <td>Pompano Beach, FL</td>\n",
              "    </tr>\n",
              "    <tr>\n",
              "      <th>...</th>\n",
              "      <td>...</td>\n",
              "      <td>...</td>\n",
              "      <td>...</td>\n",
              "      <td>...</td>\n",
              "      <td>...</td>\n",
              "      <td>...</td>\n",
              "      <td>...</td>\n",
              "    </tr>\n",
              "    <tr>\n",
              "      <th>10973</th>\n",
              "      <td>\\n    2023 Mercedes-Benz E-Class E 450 4MATIC\\n</td>\n",
              "      <td>4.8</td>\n",
              "      <td>(1,517 reviews)</td>\n",
              "      <td>\\n  $58,094\\n</td>\n",
              "      <td>Mercedes-Benz of Littleton</td>\n",
              "      <td>16,382 mi.</td>\n",
              "      <td>Littleton, CO</td>\n",
              "    </tr>\n",
              "    <tr>\n",
              "      <th>10974</th>\n",
              "      <td>\\n    2021 Mercedes-Benz S-Class S 560 4MATIC\\n</td>\n",
              "      <td>4.6</td>\n",
              "      <td>(1,071 reviews)</td>\n",
              "      <td>\\n  $83,988\\n</td>\n",
              "      <td>RBM of Atlanta</td>\n",
              "      <td>20,366 mi.</td>\n",
              "      <td>Atlanta, GA</td>\n",
              "    </tr>\n",
              "    <tr>\n",
              "      <th>10975</th>\n",
              "      <td>\\n    2021 Mercedes-Benz S-Class S 580 4MATIC\\n</td>\n",
              "      <td>4.5</td>\n",
              "      <td>(1,747 reviews)</td>\n",
              "      <td>\\n  $76,994\\n</td>\n",
              "      <td>Mercedes-Benz Of Henderson</td>\n",
              "      <td>17,742 mi.</td>\n",
              "      <td>Henderson, NV</td>\n",
              "    </tr>\n",
              "    <tr>\n",
              "      <th>10976</th>\n",
              "      <td>\\n    2020 Mercedes-Benz E-Class 4MATIC\\n</td>\n",
              "      <td>5.0</td>\n",
              "      <td>(6,418 reviews)</td>\n",
              "      <td>\\n  $36,999\\n</td>\n",
              "      <td>RBM of Alpharetta</td>\n",
              "      <td>15,051 mi.</td>\n",
              "      <td>Alpharetta, GA</td>\n",
              "    </tr>\n",
              "    <tr>\n",
              "      <th>10977</th>\n",
              "      <td>\\n    2019 Mercedes-Benz E-Class E 300\\n</td>\n",
              "      <td>4.6</td>\n",
              "      <td>(947 reviews)</td>\n",
              "      <td>\\n  $26,996\\n</td>\n",
              "      <td>Mercedes-Benz of Buckhead</td>\n",
              "      <td>49,169 mi.</td>\n",
              "      <td>Atlanta, GA</td>\n",
              "    </tr>\n",
              "  </tbody>\n",
              "</table>\n",
              "<p>10978 rows × 7 columns</p>\n",
              "</div>"
            ],
            "text/plain": [
              "                                                    Name Rating  \\\n",
              "0            \\n    2022 Mercedes-Benz GLS 450 4MATIC\\n      4.8   \n",
              "1            \\n    2022 Mercedes-Benz E-Class 4MATIC\\n      4.5   \n",
              "2            \\n    2023 Mercedes-Benz E-Class 4MATIC\\n      4.8   \n",
              "3             \\n    2023 Mercedes-Benz E-Class E 350\\n      4.5   \n",
              "4            \\n    2022 Mercedes-Benz S-Class 4MATIC\\n      4.4   \n",
              "...                                                  ...    ...   \n",
              "10973  \\n    2023 Mercedes-Benz E-Class E 450 4MATIC\\n      4.8   \n",
              "10974  \\n    2021 Mercedes-Benz S-Class S 560 4MATIC\\n      4.6   \n",
              "10975  \\n    2021 Mercedes-Benz S-Class S 580 4MATIC\\n      4.5   \n",
              "10976        \\n    2020 Mercedes-Benz E-Class 4MATIC\\n      5.0   \n",
              "10977         \\n    2019 Mercedes-Benz E-Class E 300\\n      4.6   \n",
              "\n",
              "          Review Count        $ Price                         Dealer Name  \\\n",
              "0        (852 reviews)  \\n  $51,490\\n  Mercedes-Benz of Kansas City South   \n",
              "1        (454 reviews)  \\n  $47,479\\n                   Sullivan-Parkhill   \n",
              "2      (5,063 reviews)  \\n  $57,000\\n         Jackie Cooper Mercedes Benz   \n",
              "3      (1,950 reviews)  \\n  $43,655\\n      Mercedes-Benz of Houston North   \n",
              "4      (1,433 reviews)  \\n  $71,998\\n            Mercedes-Benz of Pompano   \n",
              "...                ...            ...                                 ...   \n",
              "10973  (1,517 reviews)  \\n  $58,094\\n          Mercedes-Benz of Littleton   \n",
              "10974  (1,071 reviews)  \\n  $83,988\\n                      RBM of Atlanta   \n",
              "10975  (1,747 reviews)  \\n  $76,994\\n          Mercedes-Benz Of Henderson   \n",
              "10976  (6,418 reviews)  \\n  $36,999\\n                   RBM of Alpharetta   \n",
              "10977    (947 reviews)  \\n  $26,996\\n           Mercedes-Benz of Buckhead   \n",
              "\n",
              "          Mileage           Location  \n",
              "0      70,498 mi.    Kansas City, MO  \n",
              "1      38,594 mi.      Champaign, IL  \n",
              "2      11,254 mi.          Tulsa, OK  \n",
              "3      22,909 mi.        Houston, TX  \n",
              "4      31,921 mi.  Pompano Beach, FL  \n",
              "...           ...                ...  \n",
              "10973  16,382 mi.      Littleton, CO  \n",
              "10974  20,366 mi.        Atlanta, GA  \n",
              "10975  17,742 mi.      Henderson, NV  \n",
              "10976  15,051 mi.     Alpharetta, GA  \n",
              "10977  49,169 mi.        Atlanta, GA  \n",
              "\n",
              "[10978 rows x 7 columns]"
            ]
          },
          "execution_count": 143,
          "metadata": {},
          "output_type": "execute_result"
        }
      ],
      "source": [
        "car_dealer"
      ]
    },
    {
      "cell_type": "code",
      "execution_count": null,
      "id": "298534b4-ec91-463f-b9c6-3685a259d0e7",
      "metadata": {
        "id": "298534b4-ec91-463f-b9c6-3685a259d0e7"
      },
      "outputs": [],
      "source": [
        "car_dealer.to_csv('a_car_data.csv', index=False)"
      ]
    },
    {
      "cell_type": "code",
      "execution_count": null,
      "id": "fd7dadb8-0fed-4ac4-a3d8-be91298901fe",
      "metadata": {
        "id": "fd7dadb8-0fed-4ac4-a3d8-be91298901fe"
      },
      "outputs": [],
      "source": [
        "# Data Cleaning and Save in csv"
      ]
    },
    {
      "cell_type": "code",
      "execution_count": null,
      "id": "60651af1-eaa8-4bd3-9841-6ba9f3c9038d",
      "metadata": {
        "id": "60651af1-eaa8-4bd3-9841-6ba9f3c9038d"
      },
      "outputs": [],
      "source": [
        "# remove \\n in name column\n",
        "# remove comma's in Review column\n",
        "# remove \\n in price column\n",
        "# remove comma's in Mileage column\n",
        "# remove comma from location column (optional)"
      ]
    },
    {
      "cell_type": "code",
      "execution_count": null,
      "id": "4510fdd6-3e77-433b-99c7-572434451c65",
      "metadata": {
        "id": "4510fdd6-3e77-433b-99c7-572434451c65"
      },
      "outputs": [],
      "source": [
        "car_dealer['Name'] = car_dealer['Name'].apply(lambda x: x.replace('\\n', '') if isinstance(x, str) else x)"
      ]
    },
    {
      "cell_type": "code",
      "execution_count": null,
      "id": "ab2f7d3f-cbd7-44b8-b6b1-e0ed9cdcb150",
      "metadata": {
        "id": "ab2f7d3f-cbd7-44b8-b6b1-e0ed9cdcb150"
      },
      "outputs": [],
      "source": [
        "car_dealer['Review Count'] = car_dealer['Review Count'].apply(\n",
        "    lambda x: x.replace('reviews', '').replace('(', '').replace(')', '').replace(',', '').strip() if isinstance(x, str) else x\n",
        ")"
      ]
    },
    {
      "cell_type": "code",
      "execution_count": null,
      "id": "2b3c286b-d605-48b9-b800-561db701929f",
      "metadata": {
        "id": "2b3c286b-d605-48b9-b800-561db701929f"
      },
      "outputs": [],
      "source": [
        "car_dealer['$ Price'] = car_dealer['$ Price'].apply(lambda x: x.replace('\\n', '').replace(',', '').replace('$', '').strip())"
      ]
    },
    {
      "cell_type": "code",
      "execution_count": null,
      "id": "a9a07406-7176-43b2-a0d7-6dcbd9e89fa1",
      "metadata": {
        "id": "a9a07406-7176-43b2-a0d7-6dcbd9e89fa1"
      },
      "outputs": [],
      "source": [
        "car_dealer['Mileage'] = car_dealer['Mileage'].apply(lambda x: x.replace('mi.', '').replace(',', '').strip() if isinstance(x, str) else x)"
      ]
    },
    {
      "cell_type": "code",
      "execution_count": null,
      "id": "8cb0a031-d409-431c-818f-b999ffa60abf",
      "metadata": {
        "id": "8cb0a031-d409-431c-818f-b999ffa60abf"
      },
      "outputs": [],
      "source": [
        "car_dealer['Location'] = car_dealer['Location'].apply(lambda x: x.replace(',', '') if isinstance(x, str) else x)"
      ]
    },
    {
      "cell_type": "code",
      "execution_count": null,
      "id": "db11e365-1e64-4bc5-bc16-958bbacf002e",
      "metadata": {
        "id": "db11e365-1e64-4bc5-bc16-958bbacf002e",
        "outputId": "2cef2541-48de-4c89-ac46-e758d743ec0c"
      },
      "outputs": [
        {
          "data": {
            "text/html": [
              "<div>\n",
              "<style scoped>\n",
              "    .dataframe tbody tr th:only-of-type {\n",
              "        vertical-align: middle;\n",
              "    }\n",
              "\n",
              "    .dataframe tbody tr th {\n",
              "        vertical-align: top;\n",
              "    }\n",
              "\n",
              "    .dataframe thead th {\n",
              "        text-align: right;\n",
              "    }\n",
              "</style>\n",
              "<table border=\"1\" class=\"dataframe\">\n",
              "  <thead>\n",
              "    <tr style=\"text-align: right;\">\n",
              "      <th></th>\n",
              "      <th>Name</th>\n",
              "      <th>Rating</th>\n",
              "      <th>Review Count</th>\n",
              "      <th>$ Price</th>\n",
              "      <th>Dealer Name</th>\n",
              "      <th>Mileage</th>\n",
              "      <th>Location</th>\n",
              "    </tr>\n",
              "  </thead>\n",
              "  <tbody>\n",
              "    <tr>\n",
              "      <th>0</th>\n",
              "      <td>2022 Mercedes-Benz GLS 450 4MATIC</td>\n",
              "      <td>4.8</td>\n",
              "      <td>852</td>\n",
              "      <td>51490</td>\n",
              "      <td>Mercedes-Benz of Kansas City South</td>\n",
              "      <td>70498</td>\n",
              "      <td>Kansas City MO</td>\n",
              "    </tr>\n",
              "    <tr>\n",
              "      <th>1</th>\n",
              "      <td>2022 Mercedes-Benz E-Class 4MATIC</td>\n",
              "      <td>4.5</td>\n",
              "      <td>454</td>\n",
              "      <td>47479</td>\n",
              "      <td>Sullivan-Parkhill</td>\n",
              "      <td>38594</td>\n",
              "      <td>Champaign IL</td>\n",
              "    </tr>\n",
              "    <tr>\n",
              "      <th>2</th>\n",
              "      <td>2023 Mercedes-Benz E-Class 4MATIC</td>\n",
              "      <td>4.8</td>\n",
              "      <td>5063</td>\n",
              "      <td>57000</td>\n",
              "      <td>Jackie Cooper Mercedes Benz</td>\n",
              "      <td>11254</td>\n",
              "      <td>Tulsa OK</td>\n",
              "    </tr>\n",
              "    <tr>\n",
              "      <th>3</th>\n",
              "      <td>2023 Mercedes-Benz E-Class E 350</td>\n",
              "      <td>4.5</td>\n",
              "      <td>1950</td>\n",
              "      <td>43655</td>\n",
              "      <td>Mercedes-Benz of Houston North</td>\n",
              "      <td>22909</td>\n",
              "      <td>Houston TX</td>\n",
              "    </tr>\n",
              "    <tr>\n",
              "      <th>4</th>\n",
              "      <td>2022 Mercedes-Benz S-Class 4MATIC</td>\n",
              "      <td>4.4</td>\n",
              "      <td>1433</td>\n",
              "      <td>71998</td>\n",
              "      <td>Mercedes-Benz of Pompano</td>\n",
              "      <td>31921</td>\n",
              "      <td>Pompano Beach FL</td>\n",
              "    </tr>\n",
              "    <tr>\n",
              "      <th>...</th>\n",
              "      <td>...</td>\n",
              "      <td>...</td>\n",
              "      <td>...</td>\n",
              "      <td>...</td>\n",
              "      <td>...</td>\n",
              "      <td>...</td>\n",
              "      <td>...</td>\n",
              "    </tr>\n",
              "    <tr>\n",
              "      <th>10973</th>\n",
              "      <td>2023 Mercedes-Benz E-Class E 450 4MATIC</td>\n",
              "      <td>4.8</td>\n",
              "      <td>1517</td>\n",
              "      <td>58094</td>\n",
              "      <td>Mercedes-Benz of Littleton</td>\n",
              "      <td>16382</td>\n",
              "      <td>Littleton CO</td>\n",
              "    </tr>\n",
              "    <tr>\n",
              "      <th>10974</th>\n",
              "      <td>2021 Mercedes-Benz S-Class S 560 4MATIC</td>\n",
              "      <td>4.6</td>\n",
              "      <td>1071</td>\n",
              "      <td>83988</td>\n",
              "      <td>RBM of Atlanta</td>\n",
              "      <td>20366</td>\n",
              "      <td>Atlanta GA</td>\n",
              "    </tr>\n",
              "    <tr>\n",
              "      <th>10975</th>\n",
              "      <td>2021 Mercedes-Benz S-Class S 580 4MATIC</td>\n",
              "      <td>4.5</td>\n",
              "      <td>1747</td>\n",
              "      <td>76994</td>\n",
              "      <td>Mercedes-Benz Of Henderson</td>\n",
              "      <td>17742</td>\n",
              "      <td>Henderson NV</td>\n",
              "    </tr>\n",
              "    <tr>\n",
              "      <th>10976</th>\n",
              "      <td>2020 Mercedes-Benz E-Class 4MATIC</td>\n",
              "      <td>5.0</td>\n",
              "      <td>6418</td>\n",
              "      <td>36999</td>\n",
              "      <td>RBM of Alpharetta</td>\n",
              "      <td>15051</td>\n",
              "      <td>Alpharetta GA</td>\n",
              "    </tr>\n",
              "    <tr>\n",
              "      <th>10977</th>\n",
              "      <td>2019 Mercedes-Benz E-Class E 300</td>\n",
              "      <td>4.6</td>\n",
              "      <td>947</td>\n",
              "      <td>26996</td>\n",
              "      <td>Mercedes-Benz of Buckhead</td>\n",
              "      <td>49169</td>\n",
              "      <td>Atlanta GA</td>\n",
              "    </tr>\n",
              "  </tbody>\n",
              "</table>\n",
              "<p>10978 rows × 7 columns</p>\n",
              "</div>"
            ],
            "text/plain": [
              "                                                Name Rating Review Count  \\\n",
              "0                2022 Mercedes-Benz GLS 450 4MATIC      4.8          852   \n",
              "1                2022 Mercedes-Benz E-Class 4MATIC      4.5          454   \n",
              "2                2023 Mercedes-Benz E-Class 4MATIC      4.8         5063   \n",
              "3                 2023 Mercedes-Benz E-Class E 350      4.5         1950   \n",
              "4                2022 Mercedes-Benz S-Class 4MATIC      4.4         1433   \n",
              "...                                              ...    ...          ...   \n",
              "10973      2023 Mercedes-Benz E-Class E 450 4MATIC      4.8         1517   \n",
              "10974      2021 Mercedes-Benz S-Class S 560 4MATIC      4.6         1071   \n",
              "10975      2021 Mercedes-Benz S-Class S 580 4MATIC      4.5         1747   \n",
              "10976            2020 Mercedes-Benz E-Class 4MATIC      5.0         6418   \n",
              "10977             2019 Mercedes-Benz E-Class E 300      4.6          947   \n",
              "\n",
              "      $ Price                         Dealer Name Mileage          Location  \n",
              "0       51490  Mercedes-Benz of Kansas City South   70498    Kansas City MO  \n",
              "1       47479                   Sullivan-Parkhill   38594      Champaign IL  \n",
              "2       57000         Jackie Cooper Mercedes Benz   11254          Tulsa OK  \n",
              "3       43655      Mercedes-Benz of Houston North   22909        Houston TX  \n",
              "4       71998            Mercedes-Benz of Pompano   31921  Pompano Beach FL  \n",
              "...       ...                                 ...     ...               ...  \n",
              "10973   58094          Mercedes-Benz of Littleton   16382      Littleton CO  \n",
              "10974   83988                      RBM of Atlanta   20366        Atlanta GA  \n",
              "10975   76994          Mercedes-Benz Of Henderson   17742      Henderson NV  \n",
              "10976   36999                   RBM of Alpharetta   15051     Alpharetta GA  \n",
              "10977   26996           Mercedes-Benz of Buckhead   49169        Atlanta GA  \n",
              "\n",
              "[10978 rows x 7 columns]"
            ]
          },
          "execution_count": 158,
          "metadata": {},
          "output_type": "execute_result"
        }
      ],
      "source": [
        "car_dealer"
      ]
    },
    {
      "cell_type": "code",
      "execution_count": null,
      "id": "e811a51e-6d67-46fa-b8c7-b3eb123ae70f",
      "metadata": {
        "id": "e811a51e-6d67-46fa-b8c7-b3eb123ae70f"
      },
      "outputs": [],
      "source": [
        "car_dealer.to_csv('a_car_data.csv', index=False)"
      ]
    },
    {
      "cell_type": "code",
      "execution_count": null,
      "id": "070fbb20-f4a5-4845-9022-4d5be9c80c99",
      "metadata": {
        "id": "070fbb20-f4a5-4845-9022-4d5be9c80c99",
        "outputId": "51406f30-6a34-4d87-a332-f37c06a25f1e"
      },
      "outputs": [
        {
          "name": "stdout",
          "output_type": "stream",
          "text": [
            "Alhumdulillah Done (^_^)\n"
          ]
        }
      ],
      "source": [
        "print(\"Alhumdulillah Done (^_^)\")"
      ]
    }
  ],
  "metadata": {
    "kernelspec": {
      "display_name": "Python 3 (ipykernel)",
      "language": "python",
      "name": "python3"
    },
    "language_info": {
      "codemirror_mode": {
        "name": "ipython",
        "version": 3
      },
      "file_extension": ".py",
      "mimetype": "text/x-python",
      "name": "python",
      "nbconvert_exporter": "python",
      "pygments_lexer": "ipython3",
      "version": "3.13.1"
    },
    "colab": {
      "provenance": []
    }
  },
  "nbformat": 4,
  "nbformat_minor": 5
}